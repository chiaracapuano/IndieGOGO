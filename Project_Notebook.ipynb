{
 "cells": [
  {
   "cell_type": "markdown",
   "metadata": {
    "collapsed": true,
    "pycharm": {
     "name": "#%% md\n"
    }
   },
   "source": [
    "This notebook has the purpose of explaining how the app IndieGOGO, for the prediction of campaign success, works.\n",
    "\n",
    "\n",
    "The strategy consists in:\n",
    "1. collecting a series of campaign ads from the IndieGOGO website to create a campaign dataset,\n",
    "2. integrating the user input campaign ad with the campaign dataset corpus,\n",
    "2. extracting the terms frequency in the corpus using a TD-IDF vectorizer,\n",
    "3. training a logistic regression classifier using the campaign dataset terms as features and the success of a campaign as label (0 if unsuccessful, 1 if successful) -\n",
    "the user input ad is obviously excluded from the ML model training,\n",
    "4. using the model to determine whether the user selected campaign will be successful or not.\n",
    "\n",
    "The campaign dataset is created scraping the IndieGOGO website with BeautifulSoup and Selenium. A future version of the app will only use BeautifulSoup, as it will rely on the page json file (more details below).\n",
    "\n",
    "As a first step, we connect to the Postgres database that contains the campaign dataset.\n",
    "The login details are contained in a .config file that I keep on my local machine.\n",
    "\n",
    "The dataset is dumped in a pandas dataframe, and contains three columns: the first two are the two sections of the campaign corpus identified, the last is the percentage of money collected by the campaign.\n",
    "\n",
    "Usually the campaign ads contain an \"Overview\" section that is stored in the column \"lower_case_span\" and the actual ad corpus contained in \"lower_case_div\".\n",
    "A lot of the websites scraped did not contain an overview section, therefore a lot of the respective rows are empty."
   ]
  },
  {
   "cell_type": "code",
   "source": [
    "from sqlalchemy import create_engine\n",
    "import configparser\n",
    "import pandas as pd\n",
    "\n",
    "configParser = configparser.RawConfigParser()\n",
    "configFilePath = './login.config'\n",
    "configParser.read(configFilePath)\n",
    "user = configParser.get('dev-postgres-config', 'user')\n",
    "password = configParser.get('dev-postgres-config', 'pwd')\n",
    "host = configParser.get('dev-postgres-config', 'host')\n",
    "port = configParser.get('dev-postgres-config', 'port')\n",
    "\n",
    "print(\"Attempt to connect to PSQL at {}:{} as user '{}'\".format(host, port, user))\n",
    "\n",
    "engine = create_engine(\n",
    "    'postgresql+psycopg2://' + user + ':' + password + '@' + host + ':' + port + '/indiegogo_url')\n",
    "#Dump the campaign table into a pandas dataframe\n",
    "df = pd.read_sql_query('select * from \"idf_ml_set_complete\"', con=engine)\n",
    "#FIll Nans with 0.\n",
    "df = df.fillna(\"0\")\n",
    "print()\n",
    "print(\"Head of df:\")\n",
    "print(df.head())\n",
    "print()\n",
    "print(\"Length of df:\")\n",
    "print(len(df))\n",
    "\n",
    "\n"
   ],
   "metadata": {
    "collapsed": false,
    "pycharm": {
     "name": "#%%\n"
    }
   },
   "execution_count": 67,
   "outputs": [
    {
     "name": "stdout",
     "output_type": "stream",
     "text": [
      "Attempt to connect to PSQL at postgres:5432 as user 'postgres'\n",
      "\n",
      "Head of df:\n",
      "  lower_case_span                                     lower_case_div  \\\n",
      "0              {}  {\"why micky needs help.\\nyesterday, my dog was...   \n",
      "1              {}  {\"\\nshort summary\\ncontributors fund ideas the...   \n",
      "2              {}  {\"\\n\\nfrankie needs all of the love and help h...   \n",
      "3              {}  {\"\\nannouncement 5/17/13\\nwe have surpassed ou...   \n",
      "4              {}  {\"i am a single mother that can't afford the c...   \n",
      "\n",
      "  collected_percentage  \n",
      "0                  100  \n",
      "1                  130  \n",
      "2                   80  \n",
      "3                  128  \n",
      "4                  105  \n",
      "\n",
      "Length of df:\n",
      "2351\n"
     ]
    }
   ]
  },
  {
   "cell_type": "markdown",
   "source": [
    "The user provides the link to a campaign ad, which is scraped using BeautifulSoup.\n",
    "Rather than using Selenium to load the parts of the page accessible only after pushing a button,\n",
    "the program extracts the project_id and proceeds with scraping the webpage in json format, accessible with the project id."
   ],
   "metadata": {
    "collapsed": false
   }
  },
  {
   "cell_type": "code",
   "execution_count": 68,
   "outputs": [],
   "source": [
    "from bs4 import BeautifulSoup\n",
    "import requests\n",
    "import re\n",
    "import json\n",
    "import pandas as pd\n",
    "import numpy as np\n",
    "\n",
    "#Link to the campaign as chosen by the user.\n",
    "url = 'https://www.indiegogo.com//projects/homefarm-the-ultimate-in-home-cultivation-food-cooking'\n",
    "page = requests.get(url)\n",
    "soup = BeautifulSoup(page.content, 'html.parser')\n",
    "json_data = soup.find('script', text=re.compile(\"//<!\\[CDATA\\[\"))\n",
    "pattern = ',\"project_id\":(.*)};gon.tracking_info={'\n",
    "#The webpage is scraped to obtain the project_id.\n",
    "project_id = re.search(pattern, str(json_data)).group(1)\n",
    "#The project id is used to access the json format of the webpage,\n",
    "#containing the whole ad corpus.\n",
    "page = requests.get(\"https://www.indiegogo.com/private_api/campaigns/\" + project_id + \"/description\")\n",
    "soup = BeautifulSoup(page.content, 'html.parser')\n",
    "dict_json = json.loads(str(soup))\n",
    "html_str = dict_json['response']['description_html']\n",
    "#The ad corpus is transformed into a string.\n",
    "soup_text = BeautifulSoup(html_str, \"html.parser\").get_text()"
   ],
   "metadata": {
    "collapsed": false,
    "pycharm": {
     "name": "#%%\n"
    }
   }
  },
  {
   "cell_type": "markdown",
   "source": [
    "The corpus of the desired ad website has to be integrated with the whole\n",
    "campaign dataset in order to get a consistent TF_IDF matrix.\n",
    "\n",
    "The newly scraped ad is therefore inserted into a pandas dataframe and appended to the campaign dataset\n",
    "\n",
    "Notice that because the scraping method changed, the newly scraped website will not have 'lower_case_span' and 'lower_case_div'\n",
    "components, but just a single string that encompasses the whole ad.\n",
    "\n",
    "That is why 'lower_case_span' is set to be an empty string, while 'lower_case_div' consists of the whole corpus.\n",
    "\n",
    "The collected percentage of the campaign is set to np.Nan."
   ],
   "metadata": {
    "collapsed": false
   }
  },
  {
   "cell_type": "code",
   "source": [
    "#User input appended to campaign dataframe.\n",
    "#For consistency, the ad corpus is set to lowercase.\n",
    "temp_dict = [\n",
    "    {\n",
    "        'lower_case_span': str(),\n",
    "        'lower_case_div': soup_text.lower(),\n",
    "        'collected_percentage': np.NaN\n",
    "    }\n",
    "]\n",
    "\n",
    "temp = pd.DataFrame.from_records(temp_dict)\n",
    "df_to_pred = pd.concat([df, temp])\n",
    "df_to_pred = df_to_pred.reset_index(drop=True)"
   ],
   "metadata": {
    "collapsed": false,
    "pycharm": {
     "name": "#%%\n"
    }
   },
   "execution_count": 69,
   "outputs": []
  },
  {
   "cell_type": "markdown",
   "source": [
    "Now it is the time to initialize the TfidfVectorizer.\n",
    "The vectorizer will be used to build a term frequency matrix,\n",
    "which will have as many rows as the campaign ads scraped, and the\n",
    "columns will correspond to the unigrams and bigrams that are present in less than 95% of the documents\n",
    "but more than 5% of them. Also, stopwords are excluded.\n",
    "\n",
    "Imposing these thresholds helps keeping the dimension of the vectorizer matrix contained.\n",
    "\n",
    "In obtaining the terms frequency matrix, 'lower_case_span' and 'lower_case_div' are joined together."
   ],
   "metadata": {
    "collapsed": false
   }
  },
  {
   "cell_type": "code",
   "execution_count": 70,
   "outputs": [
    {
     "name": "stdout",
     "output_type": "stream",
     "text": [
      "Vectorizer initialized.\n",
      "Building the term frequency matrix.\n",
      "\n"
     ]
    }
   ],
   "source": [
    "from nltk.corpus import stopwords\n",
    "from sklearn.feature_extraction.text import TfidfVectorizer\n",
    "\n",
    "stopwords_list = stopwords.words('english')\n",
    "vectorizer = TfidfVectorizer(analyzer='word',\n",
    "                             ngram_range=(1, 2),\n",
    "                             max_df=0.95,\n",
    "                             min_df=0.05,\n",
    "                             stop_words=stopwords_list)\n",
    "\n",
    "print('Vectorizer initialized.')\n",
    "print('Building the term frequency matrix.')\n",
    "print()\n",
    "#'lower_case_span' and 'lower_case_div' are joined together.\n",
    "tfidf_matrix = vectorizer.fit_transform(df_to_pred['lower_case_span'] + \" \" + df_to_pred['lower_case_div'])"
   ],
   "metadata": {
    "collapsed": false,
    "pycharm": {
     "name": "#%%\n"
    }
   }
  },
  {
   "cell_type": "markdown",
   "source": [
    "The matrix contains the features that will be used to train the logistic regression classifier,\n",
    "and it is dumped into a pandas dataframe because it is easier to manipulate.\n",
    "\n",
    "The column relative to the collected percentage of money is also added to the dataframe."
   ],
   "metadata": {
    "collapsed": false
   }
  },
  {
   "cell_type": "code",
   "execution_count": 71,
   "outputs": [
    {
     "name": "stdout",
     "output_type": "stream",
     "text": [
      "Dimensions of tfidf_matrix:\n",
      "(2352, 919)\n"
     ]
    }
   ],
   "source": [
    "sdf = pd.DataFrame.sparse.from_spmatrix(tfidf_matrix)\n",
    "print(\"Dimensions of tfidf_matrix:\")\n",
    "print(sdf.shape)\n",
    "#Addition of 'collected_percentage' column.\n",
    "sdf['collected_percentage'] = df_to_pred['collected_percentage']"
   ],
   "metadata": {
    "collapsed": false,
    "pycharm": {
     "name": "#%%\n"
    }
   }
  },
  {
   "cell_type": "markdown",
   "source": [
    "At this point, we divide the dataframe in the part that will be used for training of the logistic regression model\n",
    "and the part that is the user input ad, which will be the predicted campaign:"
   ],
   "metadata": {
    "collapsed": false
   }
  },
  {
   "cell_type": "code",
   "execution_count": null,
   "outputs": [],
   "source": [
    "#Replacement of commas with dots\n",
    "sdf_train = sdf.dropna()\n",
    "#Selecting the Nan collected_percentage value of all the dataframe.\n",
    "X_to_pred = sdf[sdf.isnull().any(1)]\n"
   ],
   "metadata": {
    "collapsed": false,
    "pycharm": {
     "name": "#%%\n",
     "is_executing": true
    }
   }
  },
  {
   "cell_type": "markdown",
   "source": [
    "The label column to the term frequency dataframe is added at this point: whenever the collected percentage is less than 100% the campaign will be considered unsuccessful, therefore the label will be 0, 1 otherwise.\n",
    "\n",
    "The percentage of money raised by the campaign is a string in which the thousand separator is a comma rather than a dot. This will be a problem when casting the column to float,\n",
    "so before that we replace commas with dots across all the column."
   ],
   "metadata": {
    "collapsed": false
   }
  },
  {
   "cell_type": "code",
   "execution_count": null,
   "outputs": [],
   "source": [
    "\n",
    "sdf_train['collected_percentage'] = sdf_train['collected_percentage'].str.replace(\",\", \".\")\n",
    "\n",
    "#Cast the column to float, create new column with 1 or 0\n",
    "# based on the campaign success.\n",
    "sdf_train['collected_percentage_binary'] = [1 if x > 100 else 0 for x in\n",
    "                                      sdf_train['collected_percentage'].astype(float)]\n"
   ],
   "metadata": {
    "collapsed": false,
    "pycharm": {
     "name": "#%%\n",
     "is_executing": true
    }
   }
  },
  {
   "cell_type": "markdown",
   "source": [
    "The matrix is fed into a logistic regression classifier, that performs a 5-fold cross validation.\n",
    "Because the labels are imbalanced, class weights are added."
   ],
   "metadata": {
    "collapsed": false
   }
  },
  {
   "cell_type": "code",
   "execution_count": null,
   "outputs": [],
   "source": [
    "#Proof of class imbalance:\n",
    "ones_weight = len(sdf_train[sdf_train['collected_percentage_binary'] == 1])\n",
    "zeroes_weight = len(sdf_train[sdf_train['collected_percentage_binary'] == 0])\n",
    "print(\"Number of ones:\", ones_weight)\n",
    "print(\"Number of zeroes:\", zeroes_weight)"
   ],
   "metadata": {
    "collapsed": false,
    "pycharm": {
     "name": "#%%\n",
     "is_executing": true
    }
   }
  },
  {
   "cell_type": "markdown",
   "source": [
    "The score of the model is returned, with the scoring method being the area under the ROC curve.\n",
    "The ROC curve is also displayed, and below it you can find the confusion matrix.\n"
   ],
   "metadata": {
    "collapsed": false
   }
  },
  {
   "cell_type": "code",
   "execution_count": null,
   "outputs": [],
   "source": [
    "from sklearn.linear_model import LogisticRegressionCV\n",
    "from sklearn.metrics import confusion_matrix\n",
    "import sklearn.metrics\n",
    "import matplotlib.pyplot as plt\n",
    "\n",
    "X = sdf_train.drop(columns=[\"collected_percentage\", \"collected_percentage_binary\"])\n",
    "y = sdf_train['collected_percentage_binary']\n",
    "clf = LogisticRegressionCV(cv=5, class_weight='balanced', max_iter=2000).fit(X, y)\n",
    "\n",
    "print('Finished training classifier.')\n",
    "y_pred = clf.predict(X)\n",
    "confusion_matrix = confusion_matrix(y, y_pred)\n",
    "\n",
    "fpr, tpr, threshold = sklearn.metrics.roc_curve(y, y_pred)\n",
    "roc_auc = sklearn.metrics.auc(fpr, tpr)\n",
    "print('Score:', roc_auc)\n",
    "plt.title('Receiver Operating Characteristic')\n",
    "plt.plot(fpr, tpr, 'b', label = 'AUC = %0.5f' % roc_auc)\n",
    "plt.legend(loc = 'lower right')\n",
    "plt.plot([0, 1], [0, 1],'r--')\n",
    "plt.xlim([-0.1, 1.1])\n",
    "plt.ylim([-0.1, 1.1])\n",
    "plt.ylabel('True Positive Rate')\n",
    "plt.xlabel('False Positive Rate')\n",
    "plt.show()\n",
    "\n",
    "print('Confusion Matrix:')\n",
    "print(confusion_matrix)\n"
   ],
   "metadata": {
    "collapsed": false,
    "pycharm": {
     "name": "#%%\n",
     "is_executing": true
    }
   }
  },
  {
   "cell_type": "markdown",
   "source": [
    "We can now proceed with the prediction, dropping the 'collected_percentage' column from X_to_pred:"
   ],
   "metadata": {
    "collapsed": false,
    "pycharm": {
     "name": "#%% md\n"
    }
   }
  },
  {
   "cell_type": "code",
   "execution_count": null,
   "outputs": [],
   "source": [
    "#Eliminate collected_percentage to only retain the ad's features.\n",
    "X_to_pred = X_to_pred.drop(columns=[\"collected_percentage\"])\n",
    "\n",
    "res = clf.predict(X_to_pred)"
   ],
   "metadata": {
    "collapsed": false,
    "pycharm": {
     "name": "#%%\n",
     "is_executing": true
    }
   }
  },
  {
   "cell_type": "markdown",
   "source": [
    "The prediction is displayed, showing \"The campaign will be unsuccessful :(\" if the predicted value is 0,\n",
    "\"The campaign will be successful!!\" otherwise."
   ],
   "metadata": {
    "collapsed": false
   }
  },
  {
   "cell_type": "code",
   "execution_count": null,
   "outputs": [],
   "source": [
    "if res[0] == 0:\n",
    "    output_logreg = \"The campaign will be unsuccessful :(\"\n",
    "else:\n",
    "    output_logreg = \"The campaign will be successful!!\"\n",
    "\n",
    "print(output_logreg)\n"
   ],
   "metadata": {
    "collapsed": false,
    "pycharm": {
     "name": "#%%\n",
     "is_executing": true
    }
   }
  }
 ],
 "metadata": {
  "kernelspec": {
   "display_name": "Python 3",
   "language": "python",
   "name": "python3"
  },
  "language_info": {
   "codemirror_mode": {
    "name": "ipython",
    "version": 2
   },
   "file_extension": ".py",
   "mimetype": "text/x-python",
   "name": "python",
   "nbconvert_exporter": "python",
   "pygments_lexer": "ipython2",
   "version": "2.7.6"
  }
 },
 "nbformat": 4,
 "nbformat_minor": 0
}